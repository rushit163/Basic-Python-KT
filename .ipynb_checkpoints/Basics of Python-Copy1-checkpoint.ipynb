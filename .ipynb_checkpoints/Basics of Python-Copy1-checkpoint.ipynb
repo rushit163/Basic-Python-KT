{
 "cells": [
  {
   "cell_type": "markdown",
   "id": "3c82fd16",
   "metadata": {},
   "source": [
    "# Python Basics"
   ]
  },
  {
   "cell_type": "markdown",
   "id": "2a84bd43",
   "metadata": {},
   "source": [
    "### Pointes we are covering for today"
   ]
  },
  {
   "cell_type": "markdown",
   "id": "531f8e6a",
   "metadata": {},
   "source": [
    "1. Data Types \n",
    "2. Operators \n",
    "3. Decision Making\n",
    "4. Loops\n",
    "5. functions \n",
    "6. Object Oriented Programing (OOPS)\n"
   ]
  },
  {
   "cell_type": "markdown",
   "id": "36b185f0",
   "metadata": {},
   "source": [
    "## Basic I/O\n"
   ]
  },
  {
   "cell_type": "code",
   "execution_count": 1,
   "id": "24a97c39",
   "metadata": {},
   "outputs": [
    {
     "name": "stdout",
     "output_type": "stream",
     "text": [
      "Hello World\n"
     ]
    }
   ],
   "source": [
    "print('Hello World')"
   ]
  },
  {
   "cell_type": "code",
   "execution_count": null,
   "id": "6abfa2a0",
   "metadata": {},
   "outputs": [],
   "source": [
    "name = "
   ]
  },
  {
   "cell_type": "markdown",
   "id": "68547754",
   "metadata": {},
   "source": [
    "## DATA Types"
   ]
  },
  {
   "cell_type": "markdown",
   "id": "f3cdb2b9",
   "metadata": {},
   "source": [
    "### There are mainly 5 data types in Python"
   ]
  },
  {
   "cell_type": "markdown",
   "id": "027c380b",
   "metadata": {},
   "source": [
    "1. Numbers\n",
    "2. Boolean \n",
    "3. Dictonary\n",
    "4. Set\n",
    "5. Sequence\n",
    "\n"
   ]
  },
  {
   "cell_type": "markdown",
   "id": "b3e716c5",
   "metadata": {},
   "source": [
    "## 1. Numbers\n"
   ]
  },
  {
   "cell_type": "code",
   "execution_count": null,
   "id": "bd406f12",
   "metadata": {},
   "outputs": [],
   "source": [
    "a = 10\n",
    "b = 10.2\n",
    "print(a,b)\n",
    "print(type(a), type(b))"
   ]
  },
  {
   "cell_type": "code",
   "execution_count": null,
   "id": "37202c97",
   "metadata": {},
   "outputs": [],
   "source": [
    "a = float(a)\n",
    "print(type(a))\n"
   ]
  }
 ],
 "metadata": {
  "kernelspec": {
   "display_name": "Python 3 (ipykernel)",
   "language": "python",
   "name": "python3"
  },
  "language_info": {
   "codemirror_mode": {
    "name": "ipython",
    "version": 3
   },
   "file_extension": ".py",
   "mimetype": "text/x-python",
   "name": "python",
   "nbconvert_exporter": "python",
   "pygments_lexer": "ipython3",
   "version": "3.10.9"
  }
 },
 "nbformat": 4,
 "nbformat_minor": 5
}
