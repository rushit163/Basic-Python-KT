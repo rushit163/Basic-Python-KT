{
 "cells": [
  {
   "cell_type": "markdown",
   "id": "3c82fd16",
   "metadata": {},
   "source": [
    "# Python Basics"
   ]
  },
  {
   "cell_type": "markdown",
   "id": "2a84bd43",
   "metadata": {},
   "source": [
    "### Pointes we are covering for today"
   ]
  },
  {
   "cell_type": "markdown",
   "id": "531f8e6a",
   "metadata": {},
   "source": [
    "1. Data Types \n",
    "2. Operators \n",
    "3. Decision Making\n",
    "4. Loops\n",
    "5. functions \n",
    "6. Object Oriented Programing (OOPS)\n"
   ]
  },
  {
   "cell_type": "markdown",
   "id": "36b185f0",
   "metadata": {},
   "source": [
    "## Basic I/O\n"
   ]
  },
  {
   "cell_type": "code",
   "execution_count": 1,
   "id": "24a97c39",
   "metadata": {},
   "outputs": [
    {
     "name": "stdout",
     "output_type": "stream",
     "text": [
      "Hello World\n"
     ]
    }
   ],
   "source": [
    "print('Hello World')"
   ]
  },
  {
   "cell_type": "code",
   "execution_count": 4,
   "id": "6abfa2a0",
   "metadata": {},
   "outputs": [
    {
     "name": "stdout",
     "output_type": "stream",
     "text": [
      "Enter Your name : 56\n",
      "56\n"
     ]
    }
   ],
   "source": [
    "name = input(\"Enter Your name : \")\n",
    "print(name)"
   ]
  },
  {
   "cell_type": "markdown",
   "id": "e0f23d71",
   "metadata": {},
   "source": [
    "### Defining a variable\n"
   ]
  },
  {
   "cell_type": "code",
   "execution_count": 8,
   "id": "5fabee51",
   "metadata": {},
   "outputs": [
    {
     "name": "stdout",
     "output_type": "stream",
     "text": [
      "Name: Rushit Age : 19 Gender : Male\n",
      "Age : 19\n"
     ]
    }
   ],
   "source": [
    "age = 19\n",
    "adult = True\n",
    "gender = \"Male\"\n",
    "print(\"Name: \" + \"Rushit\", \"Age :\",age, \"Gender :\",gender)\n",
    "print(f\"Age : {age}\")"
   ]
  },
  {
   "cell_type": "markdown",
   "id": "68547754",
   "metadata": {},
   "source": [
    "## DATA Types"
   ]
  },
  {
   "cell_type": "markdown",
   "id": "f3cdb2b9",
   "metadata": {},
   "source": [
    "### There are mainly 5 data types in Python"
   ]
  },
  {
   "cell_type": "markdown",
   "id": "027c380b",
   "metadata": {},
   "source": [
    "1. Numbers\n",
    "2. Boolean \n",
    "3. Dictonary\n",
    "4. Set\n",
    "5. Sequence\n",
    "\n"
   ]
  },
  {
   "cell_type": "markdown",
   "id": "b3e716c5",
   "metadata": {},
   "source": [
    "## 1. Numbers\n"
   ]
  },
  {
   "cell_type": "code",
   "execution_count": 9,
   "id": "bd406f12",
   "metadata": {},
   "outputs": [
    {
     "name": "stdout",
     "output_type": "stream",
     "text": [
      "10 10.2 (5+3j)\n",
      "<class 'int'> <class 'float'> <class 'complex'>\n"
     ]
    }
   ],
   "source": [
    "a = 10\n",
    "b = 10.2\n",
    "c = 3j + 5\n",
    "print(a,b,c)\n",
    "print(type(a), type(b), type(c))"
   ]
  },
  {
   "cell_type": "code",
   "execution_count": 3,
   "id": "37202c97",
   "metadata": {},
   "outputs": [
    {
     "name": "stdout",
     "output_type": "stream",
     "text": [
      "<class 'float'>\n"
     ]
    }
   ],
   "source": [
    "a = float(a)\n",
    "print(type(a))\n"
   ]
  },
  {
   "cell_type": "markdown",
   "id": "6a3c143d",
   "metadata": {},
   "source": [
    "## 2. Boolean \n"
   ]
  },
  {
   "cell_type": "code",
   "execution_count": 10,
   "id": "8a99c01d",
   "metadata": {},
   "outputs": [
    {
     "name": "stdout",
     "output_type": "stream",
     "text": [
      "<class 'bool'> <class 'bool'>\n"
     ]
    }
   ],
   "source": [
    "a= True\n",
    "b = False\n",
    "print(type(a),type(b))"
   ]
  },
  {
   "cell_type": "markdown",
   "id": "0823903e",
   "metadata": {},
   "source": [
    "## 3. Sequence Data Type"
   ]
  },
  {
   "cell_type": "markdown",
   "id": "d6296410",
   "metadata": {},
   "source": [
    "1. List\n",
    "2. Strings\n",
    "3. touple"
   ]
  },
  {
   "cell_type": "markdown",
   "id": "bd3d373c",
   "metadata": {},
   "source": [
    "### 1. Strings\n"
   ]
  },
  {
   "cell_type": "code",
   "execution_count": 11,
   "id": "49e8d94c",
   "metadata": {},
   "outputs": [
    {
     "name": "stdout",
     "output_type": "stream",
     "text": [
      "<class 'str'> <class 'str'>\n"
     ]
    }
   ],
   "source": [
    "a = 'IEEE'\n",
    "b = 'Comsoc'\n",
    "print(type(a), type(b))"
   ]
  },
  {
   "cell_type": "code",
   "execution_count": 12,
   "id": "87fdcc10",
   "metadata": {},
   "outputs": [
    {
     "name": "stdout",
     "output_type": "stream",
     "text": [
      "<class 'int'> <class 'str'>\n"
     ]
    }
   ],
   "source": [
    "a = 10 \n",
    "b = str(a)\n",
    "print(type(a),type(b))"
   ]
  },
  {
   "cell_type": "markdown",
   "id": "2fb9eedd",
   "metadata": {},
   "source": [
    "### 2. List"
   ]
  },
  {
   "cell_type": "code",
   "execution_count": 13,
   "id": "44ee21a3",
   "metadata": {},
   "outputs": [
    {
     "name": "stdout",
     "output_type": "stream",
     "text": [
      "[1, 2, True, 'Name', 5.9009, (3+5j), None, [3, 1.5, 1], {'Name': 'Rushit', 'age': 19}, (13, 15, True)]\n",
      "<class 'list'>\n"
     ]
    }
   ],
   "source": [
    "list1 = [1,2,True,\"Name\",5.9009,5j + 3, None, [3,1.5,1], {'Name':\"Rushit\", \"age\" : 19}, (13,15,True)]\n",
    "print(list1)\n",
    "print(type(list1))"
   ]
  },
  {
   "cell_type": "markdown",
   "id": "258c94e1",
   "metadata": {},
   "source": [
    "### 3. Tuple"
   ]
  },
  {
   "cell_type": "code",
   "execution_count": 14,
   "id": "51f58b19",
   "metadata": {},
   "outputs": [
    {
     "name": "stdout",
     "output_type": "stream",
     "text": [
      "(1, 2, True, 'Name', 5.9009, (3+5j), None, [3, 1.5, 1], {'Name': 'Rushit', 'age': 19}, (13, 15, True))\n",
      "<class 'tuple'>\n"
     ]
    }
   ],
   "source": [
    "touple1 = (1,2,True,\"Name\",5.9009,5j + 3, None, [3,1.5,1], {'Name':\"Rushit\", \"age\" : 19}, (13,15,True))\n",
    "print(touple1)\n",
    "print(type(touple1))"
   ]
  },
  {
   "cell_type": "markdown",
   "id": "a561875f",
   "metadata": {},
   "source": [
    "## Operators\n"
   ]
  },
  {
   "cell_type": "markdown",
   "id": "cea94c6a",
   "metadata": {},
   "source": [
    "1. Arithmetic Operators\n",
    "2. Relational operators\n",
    "3. Assignment Operators\n",
    "4. Logical Operators\n",
    "5. Bitwise Operators\n",
    "6. Membership Operators\n",
    "7. Identity Operators"
   ]
  },
  {
   "cell_type": "markdown",
   "id": "a1a6ebc2",
   "metadata": {},
   "source": [
    "### 1. Arithmetic Operators"
   ]
  },
  {
   "cell_type": "markdown",
   "id": "6337abf9",
   "metadata": {},
   "source": [
    "1. Addition +\n",
    "2. Subtraction -\n",
    "3. Multiplication *\n",
    "4. Division /\n",
    "5. Modulus %\n",
    "6. Floor Division //\n",
    "7. Power **"
   ]
  },
  {
   "cell_type": "code",
   "execution_count": 20,
   "id": "adff0800",
   "metadata": {},
   "outputs": [
    {
     "name": "stdout",
     "output_type": "stream",
     "text": [
      "a + b :  31\n",
      "str1 + str2 IEEE COMSOC\n",
      "list1 + list2 [1, 2, 3, 4, 5, 6]\n",
      "toup1 + toup2 (1, 2, 3, 4, 5, 6)\n",
      "a - b :  11\n",
      "a * b :  210\n",
      "a / b :  2.1\n",
      "a % b :  1\n",
      "a ** b :  16679880978201\n",
      "a // b :  2\n"
     ]
    }
   ],
   "source": [
    "a = 21\n",
    "b = 10\n",
    "\n",
    "str1 = \"IEEE\"\n",
    "str2 = \"COMSOC\"\n",
    "\n",
    "list1 = [1,2,3]\n",
    "list2 = [4,5,6]\n",
    "\n",
    "toup1 = (1,2,3)\n",
    "toup2 = (4,5,6)\n",
    "\n",
    "# Addition\n",
    "print (\"a + b : \", a + b)\n",
    "print(\"str1 + str2\", str1 + \" \" + str2)\n",
    "print(\"list1 + list2\", list1 + list2)\n",
    "print(\"toup1 + toup2\", toup1 + toup2)\n",
    "\n",
    "# Subtraction\n",
    "print (\"a - b : \", a - b)\n",
    "\n",
    "# Multiplication\n",
    "print (\"a * b : \", a * b)\n",
    "\n",
    "# Division\n",
    "print (\"a / b : \", a / b)\n",
    "\n",
    "# Modulus\n",
    "print (\"a % b : \", a % b)\n",
    "\n",
    "# Exponent\n",
    "print (\"a ** b : \", a ** b)\n",
    "\n",
    "# Floor Division\n",
    "print (\"a // b : \", a // b)"
   ]
  },
  {
   "cell_type": "markdown",
   "id": "5c9ca4e6",
   "metadata": {},
   "source": [
    "### Relational Operators"
   ]
  },
  {
   "cell_type": "markdown",
   "id": "8fc162cf",
   "metadata": {},
   "source": [
    "1. Eqals to ==\n",
    "2. Not Equals to !=\n",
    "3. Grater than >\n",
    "4. less than <\n",
    "5. Grather than eqaul to >=\n",
    "6. Less than eqal to <="
   ]
  },
  {
   "cell_type": "code",
   "execution_count": 22,
   "id": "6181f228",
   "metadata": {},
   "outputs": [
    {
     "name": "stdout",
     "output_type": "stream",
     "text": [
      "a == b :  False\n",
      "a != b :  True\n",
      "a > b :  False\n",
      "a < b :  True\n",
      "a >= b :  False\n",
      "a <= b :  True\n"
     ]
    }
   ],
   "source": [
    "a = 4\n",
    "b = 5\n",
    "\n",
    "# Equal\n",
    "print (\"a == b : \", a == b)\n",
    "\n",
    "# Not Equal\n",
    "print (\"a != b : \", a != b)\n",
    "\n",
    "# Greater Than\n",
    "print (\"a > b : \", a > b)\n",
    "\n",
    "# Less Than\n",
    "print (\"a < b : \", a < b)\n",
    "\n",
    "# Greater Than or Equal to\n",
    "print (\"a >= b : \", a >= b)\n",
    "\n",
    "# Less Than or Equal to\n",
    "print (\"a <= b : \", a <= b)"
   ]
  },
  {
   "cell_type": "markdown",
   "id": "6f2291d8",
   "metadata": {},
   "source": [
    "### Assignment Operators"
   ]
  },
  {
   "cell_type": "markdown",
   "id": "ff3f9a37",
   "metadata": {},
   "source": [
    "1. Assignment Operator =\n",
    "2. Addition Assignment +=\n",
    "3. Subtraction Assignment -=\t\n",
    "4. Multiplication Assignment *=\t\n",
    "5. Division Assignment /=\t\n",
    "6. Remainder Assignment %=\t\n",
    "7. Exponent Assignment **=\t\n",
    "8. Floor Division Assignment //="
   ]
  },
  {
   "cell_type": "code",
   "execution_count": 23,
   "id": "33cbde3b",
   "metadata": {},
   "outputs": [
    {
     "name": "stdout",
     "output_type": "stream",
     "text": [
      "a += 5 :  15\n",
      "a -= 5 :  10\n",
      "a *= 5 :  50\n",
      "a /= 5 :  10.0\n",
      "a %= 3 :  1.0\n",
      "a **= 2 :  1.0\n",
      "a //= 3 :  0.0\n"
     ]
    }
   ],
   "source": [
    "# Assignment Operator\n",
    "a = 10\n",
    "\n",
    "# Addition Assignment\n",
    "a += 5\n",
    "print (\"a += 5 : \", a)\n",
    "\n",
    "# Subtraction Assignment\n",
    "a -= 5\n",
    "print (\"a -= 5 : \", a)\n",
    "\n",
    "# Multiplication Assignment\n",
    "a *= 5\n",
    "print (\"a *= 5 : \", a)\n",
    "\n",
    "# Division Assignment\n",
    "a /= 5\n",
    "print (\"a /= 5 : \",a)\n",
    "\n",
    "# Remainder Assignment\n",
    "a %= 3\n",
    "print (\"a %= 3 : \", a)\n",
    "\n",
    "# Exponent Assignment\n",
    "a **= 2\n",
    "print (\"a **= 2 : \", a)\n",
    "\n",
    "# Floor Division Assignment\n",
    "a //= 3\n",
    "print (\"a //= 3 : \", a)"
   ]
  },
  {
   "cell_type": "markdown",
   "id": "a7d47225",
   "metadata": {},
   "source": [
    "### Bitwise Operators"
   ]
  },
  {
   "cell_type": "markdown",
   "id": "604196cd",
   "metadata": {},
   "source": [
    "1. Binary AND &\n",
    "2. Binary OR |\n",
    "3. Binary XOR ^\n",
    "4. Binary Ones Complement ~\n",
    "5. Binary Left Shift <<\n",
    "6. Binary Right Shift >>"
   ]
  },
  {
   "cell_type": "code",
   "execution_count": 25,
   "id": "c84b2f9e",
   "metadata": {},
   "outputs": [
    {
     "name": "stdout",
     "output_type": "stream",
     "text": [
      "a & b :  12\n",
      "a | b :  61\n",
      "a ^ b :  49\n",
      "~a :  -61\n",
      "a << 2 :  240\n",
      "a >> 2 :  15\n"
     ]
    }
   ],
   "source": [
    "a = 60            # 60 = 0011 1100\n",
    "b = 13            # 13 = 0000 1101\n",
    "\n",
    "# Binary AND\n",
    "c = a & b        # 12 = 0000 1100\n",
    "print (\"a & b : \", c)\n",
    "\n",
    "# Binary OR\n",
    "c = a | b        # 61 = 0011 1101\n",
    "print (\"a | b : \", c)\n",
    "\n",
    "# Binary XOR\n",
    "c = a ^ b        # 49 = 0011 0001\n",
    "print (\"a ^ b : \", c)\n",
    "\n",
    "# Binary Ones Complement\n",
    "c = ~a;           # -61 = 1100 0011\n",
    "print (\"~a : \", c)\n",
    "\n",
    "# Binary Left Shift\n",
    "c = a << 2;       # 240 = 1111 0000\n",
    "print (\"a << 2 : \", c)\n",
    "\n",
    "# Binary Right Shift\n",
    "c = a >> 2;       # 15 = 0000 1111\n",
    "print (\"a >> 2 : \", c)"
   ]
  },
  {
   "cell_type": "markdown",
   "id": "a17dcea1",
   "metadata": {},
   "source": [
    "### Logical Operator\n"
   ]
  },
  {
   "cell_type": "markdown",
   "id": "c21a0ae9",
   "metadata": {},
   "source": [
    "#### (We'll cover it with if-else)"
   ]
  },
  {
   "cell_type": "markdown",
   "id": "ca4a6666",
   "metadata": {},
   "source": [
    "### Membership Operators"
   ]
  },
  {
   "cell_type": "markdown",
   "id": "19edbe9d",
   "metadata": {},
   "source": [
    "1. in\n",
    "2. not in"
   ]
  },
  {
   "cell_type": "code",
   "execution_count": 27,
   "id": "4c8a30a7",
   "metadata": {},
   "outputs": [
    {
     "name": "stdout",
     "output_type": "stream",
     "text": [
      "True\n",
      "False\n",
      "False\n",
      "True\n"
     ]
    }
   ],
   "source": [
    "list1 = [1,3,4,5,6]\n",
    "print(1 in list1)\n",
    "print(2 in list1)\n",
    "print(1 not in list1)\n",
    "print(2 not in list1)"
   ]
  },
  {
   "cell_type": "code",
   "execution_count": 28,
   "id": "f737b1a2",
   "metadata": {},
   "outputs": [
    {
     "name": "stdout",
     "output_type": "stream",
     "text": [
      "True\n"
     ]
    }
   ],
   "source": [
    "a =20\n",
    "b =20\n",
    "print(a is b)"
   ]
  },
  {
   "cell_type": "code",
   "execution_count": 30,
   "id": "5ca3eac8",
   "metadata": {},
   "outputs": [
    {
     "name": "stdout",
     "output_type": "stream",
     "text": [
      "4363240272\n",
      "4363240272\n"
     ]
    }
   ],
   "source": [
    "print(id(a))\n",
    "print(id(b))"
   ]
  },
  {
   "cell_type": "markdown",
   "id": "b5fefeaa",
   "metadata": {},
   "source": [
    "## Decision Making"
   ]
  },
  {
   "cell_type": "markdown",
   "id": "8e02e69b",
   "metadata": {},
   "source": [
    "1. if\n",
    "2. else if(elif)\n",
    "3. nested if"
   ]
  },
  {
   "cell_type": "code",
   "execution_count": 32,
   "id": "7b452a1d",
   "metadata": {},
   "outputs": [
    {
     "name": "stdout",
     "output_type": "stream",
     "text": [
      "b is greater than a\n"
     ]
    }
   ],
   "source": [
    "a = 33\n",
    "b = 200\n",
    "if b > a:\n",
    "  print(\"b is greater than a\")"
   ]
  },
  {
   "cell_type": "code",
   "execution_count": 33,
   "id": "eec05097",
   "metadata": {},
   "outputs": [
    {
     "name": "stdout",
     "output_type": "stream",
     "text": [
      "a and b are equal\n"
     ]
    }
   ],
   "source": [
    "a = 33\n",
    "b = 33\n",
    "if b > a:\n",
    "  print(\"b is greater than a\")\n",
    "elif a == b:\n",
    "  print(\"a and b are equal\")"
   ]
  },
  {
   "cell_type": "code",
   "execution_count": null,
   "id": "90749884",
   "metadata": {},
   "outputs": [],
   "source": []
  }
 ],
 "metadata": {
  "kernelspec": {
   "display_name": "Python 3 (ipykernel)",
   "language": "python",
   "name": "python3"
  },
  "language_info": {
   "codemirror_mode": {
    "name": "ipython",
    "version": 3
   },
   "file_extension": ".py",
   "mimetype": "text/x-python",
   "name": "python",
   "nbconvert_exporter": "python",
   "pygments_lexer": "ipython3",
   "version": "3.10.9"
  }
 },
 "nbformat": 4,
 "nbformat_minor": 5
}
